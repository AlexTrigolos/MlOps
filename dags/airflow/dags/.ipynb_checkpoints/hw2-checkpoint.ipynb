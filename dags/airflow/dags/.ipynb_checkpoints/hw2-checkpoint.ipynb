{
 "cells": [
  {
   "cell_type": "code",
   "execution_count": 1,
   "id": "2b6b466b-53ea-4aef-b561-7f3b0f36e703",
   "metadata": {},
   "outputs": [],
   "source": [
    "import mlflow\n",
    "import os\n",
    "import pandas as pd\n",
    "\n",
    "from mlflow.tracking import MlflowClient\n",
    "from mlflow.models import infer_signature\n",
    "from mlflow.store.artifact.artifact_repository_registry import get_artifact_repository\n",
    "\n",
    "from sklearn.datasets import fetch_california_housing\n",
    "from sklearn.ensemble import RandomForestClassifier, GradientBoostingClassifier\n",
    "from sklearn.tree import DecisionTreeClassifier\n",
    "from sklearn.model_selection import GridSearchCV\n",
    "from sklearn.metrics import mean_squared_error, r2_score\n",
    "from sklearn.model_selection import train_test_split"
   ]
  },
  {
   "cell_type": "code",
   "execution_count": 2,
   "id": "acbf1cbb-d3cc-4e0e-8aa3-978b36d87a2c",
   "metadata": {},
   "outputs": [
    {
     "data": {
      "text/plain": [
       "'http://mlflow-service:5000'"
      ]
     },
     "execution_count": 2,
     "metadata": {},
     "output_type": "execute_result"
    }
   ],
   "source": [
    "os.getenv(\"MLFLOW_TRACKING_URI\", \"No env\")"
   ]
  },
  {
   "cell_type": "code",
   "execution_count": 3,
   "id": "04dbb212-3f7d-45f5-8062-8e19277cbad3",
   "metadata": {},
   "outputs": [
    {
     "data": {
      "text/plain": [
       "'http://mlflow-service:5000'"
      ]
     },
     "execution_count": 3,
     "metadata": {},
     "output_type": "execute_result"
    }
   ],
   "source": [
    "mlflow.get_registry_uri()"
   ]
  },
  {
   "cell_type": "code",
   "execution_count": 4,
   "id": "40d8659e-0d74-4a94-9048-31d61289c665",
   "metadata": {},
   "outputs": [
    {
     "data": {
      "text/plain": [
       "'921231301415440617'"
      ]
     },
     "execution_count": 4,
     "metadata": {},
     "output_type": "execute_result"
    }
   ],
   "source": [
    "exp_id = mlflow.create_experiment(name=\"Alex Trigolos\")\n",
    "# mlflow.delete_experiment(experiment_id=exp_id)\n",
    "exp_id"
   ]
  },
  {
   "cell_type": "code",
   "execution_count": 5,
   "id": "0917354c-8bc4-4423-8f47-8ea89a3ff3bf",
   "metadata": {},
   "outputs": [
    {
     "data": {
      "text/plain": [
       "[<Experiment: artifact_location='s3://testmlops/mlflow/921231301415440617', creation_time=1727898920227, experiment_id='921231301415440617', last_update_time=1727898920227, lifecycle_stage='active', name='Alex Trigolos', tags={}>]"
      ]
     },
     "execution_count": 5,
     "metadata": {},
     "output_type": "execute_result"
    }
   ],
   "source": [
    "mlflow.search_experiments(\n",
    "    filter_string=\"name = 'Alex Trigolos'\"\n",
    ")"
   ]
  },
  {
   "cell_type": "code",
   "execution_count": 6,
   "id": "cb92c6f5-6c52-46e1-96bf-195c23e2d31b",
   "metadata": {},
   "outputs": [],
   "source": [
    "data = pd.read_csv('https://raw.githubusercontent.com/edaehn/python_tutorials/main/titanic/train.csv', index_col=0)\n",
    "\n",
    "prepare_data = data.fillna({\"Embarked\" : \"S\"})\n",
    "prepare_data['Age'] = prepare_data.groupby(['Sex', 'Pclass'])['Age'].transform(lambda x: x.fillna(x.median()))\n",
    "prepare_data = pd.get_dummies(prepare_data, columns=[\"Sex\", \"Pclass\", \"Embarked\"])\n",
    "prepared_data = prepare_data.drop([\"Name\", \"Ticket\", \"Cabin\"], axis=1)\n",
    "X = prepared_data.drop(\"Survived\", axis=1)\n",
    "y = prepared_data[\"Survived\"]\n",
    "\n",
    "X_train, X_test, y_train, y_test = train_test_split(X, y, test_size=0.2, random_state=42)\n",
    "X_val, X_test, y_val, y_test = train_test_split(X_test, y_test, test_size=0.5)"
   ]
  },
  {
   "cell_type": "code",
   "execution_count": 7,
   "id": "b4c3e458-1bbf-410f-9be8-a34274e0b4b7",
   "metadata": {},
   "outputs": [],
   "source": [
    "MODELS = {\n",
    "    \"RandomForestClassifier\": {\n",
    "        \"model\": RandomForestClassifier(),\n",
    "        \"params\": {\n",
    "            \"n_estimators\": range(50, 500, 50),\n",
    "            \"max_depth\": [None, 1, 3, 5, 7, 9, 11, 13, 15, 17, 19, 21, 23, 25, 27, 29, 30],\n",
    "            \"min_samples_split\": [1, 2, 3, 5, 7, 8, 10]\n",
    "        }\n",
    "    },\n",
    "    \"DecisionTreeClassifier\": {\n",
    "        \"model\": DecisionTreeClassifier(),\n",
    "        \"params\": {\n",
    "            \"max_depth\": [None, 1, 3, 5, 7, 9, 11, 13, 15, 17, 19, 21, 23, 25, 27, 29, 30],\n",
    "            \"min_samples_split\": [1, 2, 3, 4, 5, 6, 7, 8, 9, 10]\n",
    "        }\n",
    "    },\n",
    "    \"GradientBoostingClassifier\": {\n",
    "        \"model\": GradientBoostingClassifier(),\n",
    "        \"params\": {\n",
    "            \"n_estimators\": range(50, 500, 50),\n",
    "            \"learning_rate\": [0.001, 0.005, 0.01, 0.05, 0.1, 0.2, 0.3, 0.4, 0.5, 0.7, 0.8, 1],\n",
    "            \"max_depth\": [1, 3, 5, 7, 9, 11, 13, 15, 17, 19]\n",
    "        }\n",
    "    }\n",
    "}"
   ]
  },
  {
   "cell_type": "code",
   "execution_count": null,
   "id": "43cfecda-bdd3-4abf-9471-85006b4920d0",
   "metadata": {},
   "outputs": [
    {
     "name": "stdout",
     "output_type": "stream",
     "text": [
      "Fitting 5 folds for each of 1071 candidates, totalling 5355 fits\n"
     ]
    },
    {
     "name": "stderr",
     "output_type": "stream",
     "text": [
      "/opt/conda/lib/python3.11/site-packages/sklearn/model_selection/_validation.py:425: FitFailedWarning: \n",
      "765 fits failed out of a total of 5355.\n",
      "The score on these train-test partitions for these parameters will be set to nan.\n",
      "If these failures are not expected, you can try to debug them by setting error_score='raise'.\n",
      "\n",
      "Below are more details about the failures:\n",
      "--------------------------------------------------------------------------------\n",
      "765 fits failed with the following error:\n",
      "Traceback (most recent call last):\n",
      "  File \"/opt/conda/lib/python3.11/site-packages/sklearn/model_selection/_validation.py\", line 732, in _fit_and_score\n",
      "    estimator.fit(X_train, y_train, **fit_params)\n",
      "  File \"/opt/conda/lib/python3.11/site-packages/sklearn/base.py\", line 1144, in wrapper\n",
      "    estimator._validate_params()\n",
      "  File \"/opt/conda/lib/python3.11/site-packages/sklearn/base.py\", line 637, in _validate_params\n",
      "    validate_parameter_constraints(\n",
      "  File \"/opt/conda/lib/python3.11/site-packages/sklearn/utils/_param_validation.py\", line 95, in validate_parameter_constraints\n",
      "    raise InvalidParameterError(\n",
      "sklearn.utils._param_validation.InvalidParameterError: The 'min_samples_split' parameter of RandomForestClassifier must be an int in the range [2, inf) or a float in the range (0.0, 1.0]. Got 1 instead.\n",
      "\n",
      "  warnings.warn(some_fits_failed_message, FitFailedWarning)\n",
      "/opt/conda/lib/python3.11/site-packages/sklearn/model_selection/_search.py:976: UserWarning: One or more of the test scores are non-finite: [       nan        nan        nan ... 0.81741357 0.81461637 0.81881217]\n",
      "  warnings.warn(\n",
      "/opt/conda/lib/python3.11/site-packages/mlflow/types/utils.py:406: UserWarning: Hint: Inferred schema contains integer column(s). Integer columns in Python cannot represent missing values. If your input data contains missing values at inference time, it will be encoded as floats and will cause a schema enforcement error. The best way to avoid this problem is to infer the model schema based on a realistic data sample (training dataset) that includes missing values. Alternatively, you can declare integer columns as doubles (float64) whenever these columns may have missing values. See `Handling Integers With Missing Values <https://www.mlflow.org/docs/latest/models.html#handling-integers-with-missing-values>`_ for more details.\n",
      "  warnings.warn(\n",
      "Successfully registered model 'sk-learn-RandomForestClassifier-model'.\n",
      "2024/10/02 20:20:51 INFO mlflow.store.model_registry.abstract_store: Waiting up to 300 seconds for model version to finish creation. Model name: sk-learn-RandomForestClassifier-model, version 1\n",
      "Created version '1' of model 'sk-learn-RandomForestClassifier-model'.\n"
     ]
    },
    {
     "data": {
      "application/vnd.jupyter.widget-view+json": {
       "model_id": "f4bd5b90a23446c698cc67a9ea09112e",
       "version_major": 2,
       "version_minor": 0
      },
      "text/plain": [
       "Downloading artifacts:   0%|          | 0/5 [00:00<?, ?it/s]"
      ]
     },
     "metadata": {},
     "output_type": "display_data"
    },
    {
     "name": "stderr",
     "output_type": "stream",
     "text": [
      "/opt/conda/lib/python3.11/site-packages/mlflow/types/utils.py:406: UserWarning: Hint: Inferred schema contains integer column(s). Integer columns in Python cannot represent missing values. If your input data contains missing values at inference time, it will be encoded as floats and will cause a schema enforcement error. The best way to avoid this problem is to infer the model schema based on a realistic data sample (training dataset) that includes missing values. Alternatively, you can declare integer columns as doubles (float64) whenever these columns may have missing values. See `Handling Integers With Missing Values <https://www.mlflow.org/docs/latest/models.html#handling-integers-with-missing-values>`_ for more details.\n",
      "  warnings.warn(\n",
      "2024/10/02 20:20:52 INFO mlflow.models.evaluation.default_evaluator: Computing model predictions.\n",
      "2024/10/02 20:20:52 INFO mlflow.models.evaluation.default_evaluator: The evaluation dataset is inferred as binary dataset, positive label is 1, negative label is 0.\n",
      "2024/10/02 20:20:52 INFO mlflow.models.evaluation.default_evaluator: Testing metrics on first row...\n",
      "2024/10/02 20:20:54 WARNING mlflow.models.evaluation.default_evaluator: Skip logging model explainability insights because the shap explainer None requires all feature values to be numeric, and each feature column must only contain scalar values.\n",
      "2024/10/02 20:20:54 INFO mlflow.tracking._tracking_service.client: 🏃 View run RandomForestClassifier at: http://mlflow-service:5000/#/experiments/921231301415440617/runs/34f5300a9f62492c8e7283520a290578.\n",
      "2024/10/02 20:20:54 INFO mlflow.tracking._tracking_service.client: 🧪 View experiment at: http://mlflow-service:5000/#/experiments/921231301415440617.\n"
     ]
    },
    {
     "name": "stdout",
     "output_type": "stream",
     "text": [
      "Fitting 5 folds for each of 170 candidates, totalling 850 fits\n"
     ]
    },
    {
     "name": "stderr",
     "output_type": "stream",
     "text": [
      "/opt/conda/lib/python3.11/site-packages/sklearn/model_selection/_validation.py:425: FitFailedWarning: \n",
      "85 fits failed out of a total of 850.\n",
      "The score on these train-test partitions for these parameters will be set to nan.\n",
      "If these failures are not expected, you can try to debug them by setting error_score='raise'.\n",
      "\n",
      "Below are more details about the failures:\n",
      "--------------------------------------------------------------------------------\n",
      "85 fits failed with the following error:\n",
      "Traceback (most recent call last):\n",
      "  File \"/opt/conda/lib/python3.11/site-packages/sklearn/model_selection/_validation.py\", line 732, in _fit_and_score\n",
      "    estimator.fit(X_train, y_train, **fit_params)\n",
      "  File \"/opt/conda/lib/python3.11/site-packages/sklearn/base.py\", line 1144, in wrapper\n",
      "    estimator._validate_params()\n",
      "  File \"/opt/conda/lib/python3.11/site-packages/sklearn/base.py\", line 637, in _validate_params\n",
      "    validate_parameter_constraints(\n",
      "  File \"/opt/conda/lib/python3.11/site-packages/sklearn/utils/_param_validation.py\", line 95, in validate_parameter_constraints\n",
      "    raise InvalidParameterError(\n",
      "sklearn.utils._param_validation.InvalidParameterError: The 'min_samples_split' parameter of DecisionTreeClassifier must be an int in the range [2, inf) or a float in the range (0.0, 1.0]. Got 1 instead.\n",
      "\n",
      "  warnings.warn(some_fits_failed_message, FitFailedWarning)\n",
      "/opt/conda/lib/python3.11/site-packages/sklearn/model_selection/_search.py:976: UserWarning: One or more of the test scores are non-finite: [       nan 0.76827539 0.76831478 0.76688663 0.78236974 0.77956269\n",
      " 0.79078105 0.7921698  0.7949867  0.79076135        nan 0.7878755\n",
      " 0.7878755  0.7878755  0.7878755  0.7878755  0.7878755  0.7878755\n",
      " 0.7878755  0.7878755         nan 0.82021078 0.82021078 0.82021078\n",
      " 0.82021078 0.82021078 0.82021078 0.82021078 0.82021078 0.82021078\n",
      "        nan 0.80476706 0.80477691 0.80757412 0.80617551 0.81039102\n",
      " 0.80899242 0.80899242 0.80899242 0.81039102        nan 0.79629666\n",
      " 0.80051216 0.80050231 0.80050231 0.80613612 0.80472767 0.81036147\n",
      " 0.81036147 0.80331922        nan 0.78925441 0.78783611 0.79346006\n",
      " 0.79768541 0.80612627 0.80894317 0.80472767 0.80755442 0.79628681\n",
      "        nan 0.78089235 0.77527824 0.78089235 0.78932335 0.7921304\n",
      " 0.79918251 0.80196986 0.79917266 0.80197971        nan 0.77814439\n",
      " 0.78233035 0.77813454 0.77670639 0.7907909  0.79499655 0.79357825\n",
      " 0.79076135 0.786536          nan 0.76546833 0.76689648 0.76970354\n",
      " 0.77954299 0.78376834 0.79501625 0.79215995 0.79779376 0.7963853\n",
      "        nan 0.77251059 0.76267113 0.75703733 0.77956269 0.78236974\n",
      " 0.7907909  0.79779376 0.79217965 0.786536          nan 0.75986408\n",
      " 0.76549788 0.76267113 0.78096129 0.7865951  0.79501625 0.79639515\n",
      " 0.7949867  0.7921698         nan 0.77110214 0.77249089 0.76125283\n",
      " 0.77673594 0.78236974 0.78938245 0.79215995 0.78936275 0.79357825\n",
      "        nan 0.76969369 0.76970354 0.75985423 0.77673594 0.78096129\n",
      " 0.78938245 0.79076135 0.7851374  0.79076135        nan 0.76124298\n",
      " 0.77251059 0.76267113 0.77392889 0.77815424 0.79783315 0.7949867\n",
      " 0.7935881  0.7921698         nan 0.76547818 0.76551758 0.76266128\n",
      " 0.77391904 0.78377819 0.78796415 0.79076135 0.78794445 0.786536\n",
      "        nan 0.76689648 0.76546833 0.75985423 0.77111199 0.7880134\n",
      " 0.7893923  0.79779376 0.7879543  0.786536          nan 0.76267113\n",
      " 0.77390919 0.75986408 0.78097114 0.78660494 0.787974   0.79639515\n",
      " 0.79357825 0.79076135]\n",
      "  warnings.warn(\n",
      "/opt/conda/lib/python3.11/site-packages/mlflow/types/utils.py:406: UserWarning: Hint: Inferred schema contains integer column(s). Integer columns in Python cannot represent missing values. If your input data contains missing values at inference time, it will be encoded as floats and will cause a schema enforcement error. The best way to avoid this problem is to infer the model schema based on a realistic data sample (training dataset) that includes missing values. Alternatively, you can declare integer columns as doubles (float64) whenever these columns may have missing values. See `Handling Integers With Missing Values <https://www.mlflow.org/docs/latest/models.html#handling-integers-with-missing-values>`_ for more details.\n",
      "  warnings.warn(\n",
      "/opt/conda/lib/python3.11/site-packages/_distutils_hack/__init__.py:18: UserWarning: Distutils was imported before Setuptools, but importing Setuptools also replaces the `distutils` module in `sys.modules`. This may lead to undesirable behaviors or errors. To avoid these issues, avoid using distutils directly, ensure that setuptools is installed in the traditional way (e.g. not an editable install), and/or make sure that setuptools is always imported before distutils.\n",
      "  warnings.warn(\n",
      "/opt/conda/lib/python3.11/site-packages/_distutils_hack/__init__.py:33: UserWarning: Setuptools is replacing distutils.\n",
      "  warnings.warn(\"Setuptools is replacing distutils.\")\n",
      "Successfully registered model 'sk-learn-DecisionTreeClassifier-model'.\n",
      "2024/10/02 20:21:00 INFO mlflow.store.model_registry.abstract_store: Waiting up to 300 seconds for model version to finish creation. Model name: sk-learn-DecisionTreeClassifier-model, version 1\n",
      "Created version '1' of model 'sk-learn-DecisionTreeClassifier-model'.\n"
     ]
    },
    {
     "data": {
      "application/vnd.jupyter.widget-view+json": {
       "model_id": "4c1e2bc3c7a548bdbfcdb0def052f2e6",
       "version_major": 2,
       "version_minor": 0
      },
      "text/plain": [
       "Downloading artifacts:   0%|          | 0/5 [00:00<?, ?it/s]"
      ]
     },
     "metadata": {},
     "output_type": "display_data"
    },
    {
     "name": "stderr",
     "output_type": "stream",
     "text": [
      "/opt/conda/lib/python3.11/site-packages/mlflow/types/utils.py:406: UserWarning: Hint: Inferred schema contains integer column(s). Integer columns in Python cannot represent missing values. If your input data contains missing values at inference time, it will be encoded as floats and will cause a schema enforcement error. The best way to avoid this problem is to infer the model schema based on a realistic data sample (training dataset) that includes missing values. Alternatively, you can declare integer columns as doubles (float64) whenever these columns may have missing values. See `Handling Integers With Missing Values <https://www.mlflow.org/docs/latest/models.html#handling-integers-with-missing-values>`_ for more details.\n",
      "  warnings.warn(\n",
      "2024/10/02 20:21:00 INFO mlflow.models.evaluation.default_evaluator: Computing model predictions.\n",
      "2024/10/02 20:21:00 INFO mlflow.models.evaluation.default_evaluator: The evaluation dataset is inferred as binary dataset, positive label is 1, negative label is 0.\n",
      "2024/10/02 20:21:01 INFO mlflow.models.evaluation.default_evaluator: Testing metrics on first row...\n",
      "2024/10/02 20:21:02 WARNING mlflow.models.evaluation.default_evaluator: Skip logging model explainability insights because the shap explainer None requires all feature values to be numeric, and each feature column must only contain scalar values.\n",
      "2024/10/02 20:21:02 INFO mlflow.tracking._tracking_service.client: 🏃 View run DecisionTreeClassifier at: http://mlflow-service:5000/#/experiments/921231301415440617/runs/9c2e269192644a4aba186f276b09249d.\n",
      "2024/10/02 20:21:02 INFO mlflow.tracking._tracking_service.client: 🧪 View experiment at: http://mlflow-service:5000/#/experiments/921231301415440617.\n"
     ]
    },
    {
     "name": "stdout",
     "output_type": "stream",
     "text": [
      "Fitting 5 folds for each of 1080 candidates, totalling 5400 fits\n"
     ]
    }
   ],
   "source": [
    "with mlflow.start_run(run_name=\"ursatap\", experiment_id = exp_id, description = \"parent\") as parent_run:\n",
    "    for model_name in MODELS.keys():\n",
    "        with mlflow.start_run(run_name=model_name, experiment_id=exp_id, nested=True) as child_run:\n",
    "            model = MODELS[model_name][\"model\"]\n",
    "            param_grid = MODELS[model_name][\"params\"]\n",
    "        \n",
    "            grid_search = GridSearchCV(estimator=model, param_grid=param_grid, scoring='accuracy', cv=5, verbose=1)\n",
    "            grid_search.fit(X_train, y_train)\n",
    "\n",
    "            best_model = grid_search.best_estimator_\n",
    "            prediction = best_model.predict(X_val)\n",
    "\n",
    "            eval_df = X_val.copy()\n",
    "            eval_df[\"target\"] = y_val\n",
    "\n",
    "            signature = infer_signature(X_test, prediction)\n",
    "            model_info = mlflow.sklearn.log_model(best_model, model_name, signature=signature, registered_model_name=f\"sk-learn-{model_name}-model\")\n",
    "            mlflow.evaluate(\n",
    "                model=model_info.model_uri,\n",
    "                data=eval_df,\n",
    "                targets=\"target\",\n",
    "                model_type=\"classifier\",\n",
    "                evaluators=[\"default\"],\n",
    "            )"
   ]
  }
 ],
 "metadata": {
  "kernelspec": {
   "display_name": "Python 3 (ipykernel)",
   "language": "python",
   "name": "python3"
  },
  "language_info": {
   "codemirror_mode": {
    "name": "ipython",
    "version": 3
   },
   "file_extension": ".py",
   "mimetype": "text/x-python",
   "name": "python",
   "nbconvert_exporter": "python",
   "pygments_lexer": "ipython3",
   "version": "3.11.4"
  }
 },
 "nbformat": 4,
 "nbformat_minor": 5
}
